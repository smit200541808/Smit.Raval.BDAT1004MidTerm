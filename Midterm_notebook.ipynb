{
 "cells": [
  {
   "cell_type": "markdown",
   "id": "f2f30aff",
   "metadata": {},
   "source": [
    "### Question 21"
   ]
  },
  {
   "cell_type": "code",
   "execution_count": 1,
   "id": "f7f9750b",
   "metadata": {},
   "outputs": [
    {
     "data": {
      "text/plain": [
       "(5.0, 1.3333333333333333)"
      ]
     },
     "execution_count": 1,
     "metadata": {},
     "output_type": "execute_result"
    }
   ],
   "source": [
    "class Point:\n",
    "    def __init__(self, x=0, y=0):\n",
    "        self.x = x\n",
    "        self.y = y\n",
    "\n",
    "class Segment:\n",
    "    def __init__(self, p1, p2):\n",
    "        self.p1 = p1\n",
    "        self.p2 = p2\n",
    "    \n",
    "    def length(self):\n",
    "        return ((self.p1.x - self.p2.x)**2 + (self.p1.y - self.p2.y)**2)**0.5\n",
    "    \n",
    "    def slope(self):\n",
    "        if self.p1.x - self.p2.x == 0:\n",
    "            return None\n",
    "        return (self.p1.y - self.p2.y) / (self.p1.x - self.p2.x)\n",
    "\n",
    "# Test the code\n",
    "p1 = Point(3, 4)\n",
    "p2 = Point()\n",
    "s = Segment(p1, p2)\n",
    "\n",
    "length = s.length()\n",
    "slope = s.slope()\n",
    "\n",
    "length, slope\n"
   ]
  },
  {
   "cell_type": "markdown",
   "id": "f4880ba1",
   "metadata": {},
   "source": [
    "### Question 22"
   ]
  },
  {
   "cell_type": "code",
   "execution_count": 2,
   "id": "3537bce6",
   "metadata": {},
   "outputs": [
    {
     "data": {
      "text/html": [
       "<div>\n",
       "<style scoped>\n",
       "    .dataframe tbody tr th:only-of-type {\n",
       "        vertical-align: middle;\n",
       "    }\n",
       "\n",
       "    .dataframe tbody tr th {\n",
       "        vertical-align: top;\n",
       "    }\n",
       "\n",
       "    .dataframe thead th {\n",
       "        text-align: right;\n",
       "    }\n",
       "</style>\n",
       "<table border=\"1\" class=\"dataframe\">\n",
       "  <thead>\n",
       "    <tr style=\"text-align: right;\">\n",
       "      <th></th>\n",
       "      <th>id</th>\n",
       "    </tr>\n",
       "  </thead>\n",
       "  <tbody>\n",
       "    <tr>\n",
       "      <th>0</th>\n",
       "      <td>2</td>\n",
       "    </tr>\n",
       "    <tr>\n",
       "      <th>1</th>\n",
       "      <td>4</td>\n",
       "    </tr>\n",
       "  </tbody>\n",
       "</table>\n",
       "</div>"
      ],
      "text/plain": [
       "   id\n",
       "0   2\n",
       "1   4"
      ]
     },
     "execution_count": 2,
     "metadata": {},
     "output_type": "execute_result"
    }
   ],
   "source": [
    "import sqlite3\n",
    "import pandas as pd\n",
    "\n",
    "# Create a SQLite database in memory\n",
    "conn = sqlite3.connect(':memory:')\n",
    "cursor = conn.cursor()\n",
    "\n",
    "# Create the Weather table and insert data\n",
    "cursor.execute('''\n",
    "    CREATE TABLE Weather (\n",
    "        id INT,\n",
    "        recordDate DATE,\n",
    "        temperature INT\n",
    "    )\n",
    "''')\n",
    "\n",
    "data = [(1, '2015-01-01', 10),\n",
    "        (2, '2015-01-02', 25),\n",
    "        (3, '2015-01-03', 20),\n",
    "        (4, '2015-01-04', 30)]\n",
    "\n",
    "cursor.executemany('INSERT INTO Weather VALUES (?, ?, ?)', data)\n",
    "\n",
    "# Execute the SQL query\n",
    "query = '''\n",
    "    SELECT t1.id\n",
    "FROM Weather t1\n",
    "JOIN Weather t2\n",
    "ON t1.id = t2.id + 1\n",
    "WHERE t1.temperature > t2.temperature;\n",
    "\n",
    "'''\n",
    "\n",
    "result = pd.read_sql_query(query, conn)\n",
    "\n",
    "# Display the result\n",
    "result\n"
   ]
  },
  {
   "cell_type": "markdown",
   "id": "a45bfd24",
   "metadata": {},
   "source": [
    "### Question 23"
   ]
  },
  {
   "cell_type": "code",
   "execution_count": 3,
   "id": "3bbb8e20",
   "metadata": {},
   "outputs": [
    {
     "name": "stdout",
     "output_type": "stream",
     "text": [
      "*\n",
      "**\n",
      " *\n",
      "****\n",
      "  *\n",
      "  **\n",
      "   *\n"
     ]
    }
   ],
   "source": [
    "def print_star_pattern(indent, num):\n",
    "    if num > 0:\n",
    "        # Print the pattern on the left side\n",
    "        print_star_pattern(indent, num // 2)\n",
    "\n",
    "        # Print the middle row of asterisks\n",
    "        spaces = \" \" * indent\n",
    "        stars = \"*\" * num\n",
    "        print(spaces + stars)\n",
    "\n",
    "        # Print the pattern on the right side with increased indentation\n",
    "        print_star_pattern(indent + num // 2, num // 2)\n",
    "\n",
    "# Example usage:\n",
    "print_star_pattern(0, 4)\n"
   ]
  },
  {
   "cell_type": "code",
   "execution_count": 4,
   "id": "6d6c41d7",
   "metadata": {},
   "outputs": [
    {
     "name": "stdout",
     "output_type": "stream",
     "text": [
      "*\n",
      "**\n",
      " *\n"
     ]
    }
   ],
   "source": [
    " print_star_pattern(0,2)"
   ]
  },
  {
   "cell_type": "code",
   "execution_count": 5,
   "id": "b26a7ed1",
   "metadata": {},
   "outputs": [
    {
     "name": "stdout",
     "output_type": "stream",
     "text": [
      "*\n"
     ]
    }
   ],
   "source": [
    " print_star_pattern(0,1)"
   ]
  },
  {
   "cell_type": "code",
   "execution_count": 6,
   "id": "27d88b74",
   "metadata": {},
   "outputs": [],
   "source": [
    " print_star_pattern(0,0)"
   ]
  }
 ],
 "metadata": {
  "kernelspec": {
   "display_name": "Python 3 (ipykernel)",
   "language": "python",
   "name": "python3"
  },
  "language_info": {
   "codemirror_mode": {
    "name": "ipython",
    "version": 3
   },
   "file_extension": ".py",
   "mimetype": "text/x-python",
   "name": "python",
   "nbconvert_exporter": "python",
   "pygments_lexer": "ipython3",
   "version": "3.11.4"
  }
 },
 "nbformat": 4,
 "nbformat_minor": 5
}
